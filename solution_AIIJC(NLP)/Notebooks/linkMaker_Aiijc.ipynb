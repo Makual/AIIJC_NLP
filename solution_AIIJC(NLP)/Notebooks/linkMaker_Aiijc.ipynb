{
  "nbformat": 4,
  "nbformat_minor": 0,
  "metadata": {
    "colab": {
      "name": "linkMaker_Aiijc",
      "provenance": [],
      "collapsed_sections": []
    },
    "kernelspec": {
      "name": "python3",
      "display_name": "Python 3"
    },
    "language_info": {
      "name": "python"
    }
  },
  "cells": [
    {
      "cell_type": "code",
      "metadata": {
        "id": "3-1c9nyhPfTY",
        "colab": {
          "base_uri": "https://localhost:8080/"
        },
        "outputId": "8cc130f2-6685-41b7-d668-d0be40f5db19"
      },
      "source": [
        "!git clone https://github.com/GoldenRMT/WikiSearch.git\n",
        "!pip install googledrivedownloader"
      ],
      "execution_count": null,
      "outputs": [
        {
          "output_type": "stream",
          "name": "stdout",
          "text": [
            "Cloning into 'WikiSearch'...\n",
            "remote: Enumerating objects: 96, done.\u001b[K\n",
            "remote: Counting objects: 100% (96/96), done.\u001b[K\n",
            "remote: Compressing objects: 100% (89/89), done.\u001b[K\n",
            "remote: Total 96 (delta 33), reused 0 (delta 0), pack-reused 0\u001b[K\n",
            "Unpacking objects: 100% (96/96), done.\n",
            "Requirement already satisfied: googledrivedownloader in /usr/local/lib/python3.7/dist-packages (0.4)\n"
          ]
        }
      ]
    },
    {
      "cell_type": "code",
      "metadata": {
        "colab": {
          "base_uri": "https://localhost:8080/"
        },
        "id": "m09J8gGKSe5q",
        "outputId": "a1a50eb1-6ba3-453a-a2ad-31f0073fdebf"
      },
      "source": [
        "import WikiSearch.wikipedia.wikipedia as wikipedia\n",
        "from google_drive_downloader import GoogleDriveDownloader as gdd\n",
        "\n",
        "gdd.download_file_from_google_drive(file_id='1L71Q7c8gW0UoZxzwnJnbup2FsRrKj5I2',\n",
        "                                    dest_path='/Data/AIIJC/test.csv')\n",
        "gdd.download_file_from_google_drive(file_id='1-0qy8t9c0y7lqdT4x_bUHxOQ5dvltWjh',\n",
        "                                    dest_path='/Data/AIIJC/train.csv')"
      ],
      "execution_count": null,
      "outputs": [
        {
          "output_type": "stream",
          "name": "stdout",
          "text": [
            "Downloading 1L71Q7c8gW0UoZxzwnJnbup2FsRrKj5I2 into /Data/AIIJC/test.csv... Done.\n",
            "Downloading 1-0qy8t9c0y7lqdT4x_bUHxOQ5dvltWjh into /Data/AIIJC/train.csv... Done.\n"
          ]
        }
      ]
    },
    {
      "cell_type": "code",
      "metadata": {
        "colab": {
          "base_uri": "https://localhost:8080/",
          "height": 455
        },
        "id": "HIUtY3kFS9ft",
        "outputId": "1320d016-18d9-442d-8e45-1696e72b9b07"
      },
      "source": [
        "import pandas as pd\n",
        "train = pd.read_csv(\"/Data/AIIJC/train.csv\",index_col=0, error_bad_lines=False,sep=\";\")\n",
        "train"
      ],
      "execution_count": null,
      "outputs": [
        {
          "output_type": "execute_result",
          "data": {
            "text/html": [
              "<div>\n",
              "<style scoped>\n",
              "    .dataframe tbody tr th:only-of-type {\n",
              "        vertical-align: middle;\n",
              "    }\n",
              "\n",
              "    .dataframe tbody tr th {\n",
              "        vertical-align: top;\n",
              "    }\n",
              "\n",
              "    .dataframe thead th {\n",
              "        text-align: right;\n",
              "    }\n",
              "</style>\n",
              "<table border=\"1\" class=\"dataframe\">\n",
              "  <thead>\n",
              "    <tr style=\"text-align: right;\">\n",
              "      <th></th>\n",
              "      <th>question</th>\n",
              "      <th>answer</th>\n",
              "    </tr>\n",
              "    <tr>\n",
              "      <th>id</th>\n",
              "      <th></th>\n",
              "      <th></th>\n",
              "    </tr>\n",
              "  </thead>\n",
              "  <tbody>\n",
              "    <tr>\n",
              "      <th>1</th>\n",
              "      <td>What is the name of the locality that was name...</td>\n",
              "      <td>Antiene</td>\n",
              "    </tr>\n",
              "    <tr>\n",
              "      <th>2</th>\n",
              "      <td>Who was the first woman to be selected as a Ti...</td>\n",
              "      <td>Mary Sullivan</td>\n",
              "    </tr>\n",
              "    <tr>\n",
              "      <th>3</th>\n",
              "      <td>What 15th century friar was a notable writer a...</td>\n",
              "      <td>Kanutus Johannis</td>\n",
              "    </tr>\n",
              "    <tr>\n",
              "      <th>4</th>\n",
              "      <td>What does the Unstrut river form?</td>\n",
              "      <td>the border between the Canton of St. Gallen, t...</td>\n",
              "    </tr>\n",
              "    <tr>\n",
              "      <th>5</th>\n",
              "      <td>Who was the eighteenth Shah of Shirvan?</td>\n",
              "      <td>Afridun the Martyr</td>\n",
              "    </tr>\n",
              "    <tr>\n",
              "      <th>...</th>\n",
              "      <td>...</td>\n",
              "      <td>...</td>\n",
              "    </tr>\n",
              "    <tr>\n",
              "      <th>3996</th>\n",
              "      <td>What is the street named after?</td>\n",
              "      <td>Alexandre-Antonin Taché</td>\n",
              "    </tr>\n",
              "    <tr>\n",
              "      <th>3997</th>\n",
              "      <td>Who was the student of Joseph Beuys?</td>\n",
              "      <td>Anatol Herzfeld</td>\n",
              "    </tr>\n",
              "    <tr>\n",
              "      <th>3998</th>\n",
              "      <td>What is the name of the technology that has be...</td>\n",
              "      <td>Village Tronic</td>\n",
              "    </tr>\n",
              "    <tr>\n",
              "      <th>3999</th>\n",
              "      <td>Where was the 1923–24 Northern Football League...</td>\n",
              "      <td>Manchester United's Gillingham Stadium</td>\n",
              "    </tr>\n",
              "    <tr>\n",
              "      <th>4000</th>\n",
              "      <td>What is the name of Dope Stars' second album?</td>\n",
              "      <td>Gigahearts</td>\n",
              "    </tr>\n",
              "  </tbody>\n",
              "</table>\n",
              "<p>4000 rows × 2 columns</p>\n",
              "</div>"
            ],
            "text/plain": [
              "                                               question                                             answer\n",
              "id                                                                                                        \n",
              "1     What is the name of the locality that was name...                                            Antiene\n",
              "2     Who was the first woman to be selected as a Ti...                                      Mary Sullivan\n",
              "3     What 15th century friar was a notable writer a...                                   Kanutus Johannis\n",
              "4                     What does the Unstrut river form?  the border between the Canton of St. Gallen, t...\n",
              "5               Who was the eighteenth Shah of Shirvan?                                 Afridun the Martyr\n",
              "...                                                 ...                                                ...\n",
              "3996                    What is the street named after?                            Alexandre-Antonin Taché\n",
              "3997               Who was the student of Joseph Beuys?                                    Anatol Herzfeld\n",
              "3998  What is the name of the technology that has be...                                     Village Tronic\n",
              "3999  Where was the 1923–24 Northern Football League...             Manchester United's Gillingham Stadium\n",
              "4000      What is the name of Dope Stars' second album?                                         Gigahearts\n",
              "\n",
              "[4000 rows x 2 columns]"
            ]
          },
          "metadata": {},
          "execution_count": 3
        }
      ]
    },
    {
      "cell_type": "code",
      "metadata": {
        "id": "3o-sVurdTbVw"
      },
      "source": [
        "train['link_1'] = ''\n",
        "train['link_2'] = ''\n",
        "for i in range(len(train)):\n",
        "  data = wikipedia.search(train.iloc[i].question,results=2)\n",
        "\n",
        "  try:\n",
        "    train.link_1.iloc[i] = data[0]\n",
        "  except:\n",
        "    train.link_1.iloc[i] = '-'\n",
        "\n",
        "  try:\n",
        "    train.link_2.iloc[i] = data[1]\n",
        "  except:\n",
        "    train.link_2.iloc[i] = '-'"
      ],
      "execution_count": null,
      "outputs": []
    },
    {
      "cell_type": "code",
      "metadata": {
        "id": "uTYUfVV2SuGS"
      },
      "source": [
        "train.to_csv('newTrain.csv')"
      ],
      "execution_count": null,
      "outputs": []
    },
    {
      "cell_type": "code",
      "metadata": {
        "colab": {
          "base_uri": "https://localhost:8080/",
          "height": 455
        },
        "id": "7eSLNud_VfrT",
        "outputId": "b3ce3741-f5cf-423a-c9c9-24eb8ee8e1d2"
      },
      "source": [
        "import pandas as pd\n",
        "test = pd.read_csv(\"/Data/AIIJC/test.csv\",index_col=0, error_bad_lines=False,sep=\",\")\n",
        "test"
      ],
      "execution_count": null,
      "outputs": [
        {
          "output_type": "execute_result",
          "data": {
            "text/html": [
              "<div>\n",
              "<style scoped>\n",
              "    .dataframe tbody tr th:only-of-type {\n",
              "        vertical-align: middle;\n",
              "    }\n",
              "\n",
              "    .dataframe tbody tr th {\n",
              "        vertical-align: top;\n",
              "    }\n",
              "\n",
              "    .dataframe thead th {\n",
              "        text-align: right;\n",
              "    }\n",
              "</style>\n",
              "<table border=\"1\" class=\"dataframe\">\n",
              "  <thead>\n",
              "    <tr style=\"text-align: right;\">\n",
              "      <th></th>\n",
              "      <th>question</th>\n",
              "    </tr>\n",
              "    <tr>\n",
              "      <th>id</th>\n",
              "      <th></th>\n",
              "    </tr>\n",
              "  </thead>\n",
              "  <tbody>\n",
              "    <tr>\n",
              "      <th>4001</th>\n",
              "      <td>When was the Dewey County Courthouse built?</td>\n",
              "    </tr>\n",
              "    <tr>\n",
              "      <th>4002</th>\n",
              "      <td>What was the candle company founded in 1899?</td>\n",
              "    </tr>\n",
              "    <tr>\n",
              "      <th>4003</th>\n",
              "      <td>What is the purpose of the toroidal expansion ...</td>\n",
              "    </tr>\n",
              "    <tr>\n",
              "      <th>4004</th>\n",
              "      <td>What was the name of the route it was intended...</td>\n",
              "    </tr>\n",
              "    <tr>\n",
              "      <th>4005</th>\n",
              "      <td>What was the main focus of the republican move...</td>\n",
              "    </tr>\n",
              "    <tr>\n",
              "      <th>...</th>\n",
              "      <td>...</td>\n",
              "    </tr>\n",
              "    <tr>\n",
              "      <th>6459</th>\n",
              "      <td>How many times has Michael Harry been a Danish...</td>\n",
              "    </tr>\n",
              "    <tr>\n",
              "      <th>6460</th>\n",
              "      <td>Who was the earliest to propose the use of gue...</td>\n",
              "    </tr>\n",
              "    <tr>\n",
              "      <th>6461</th>\n",
              "      <td>Howard Anthony Gayle was born?</td>\n",
              "    </tr>\n",
              "    <tr>\n",
              "      <th>6462</th>\n",
              "      <td>What is the population of the Satakunta?</td>\n",
              "    </tr>\n",
              "    <tr>\n",
              "      <th>6463</th>\n",
              "      <td>What was the name of the storm that caused ext...</td>\n",
              "    </tr>\n",
              "  </tbody>\n",
              "</table>\n",
              "<p>2463 rows × 1 columns</p>\n",
              "</div>"
            ],
            "text/plain": [
              "                                               question\n",
              "id                                                     \n",
              "4001        When was the Dewey County Courthouse built?\n",
              "4002       What was the candle company founded in 1899?\n",
              "4003  What is the purpose of the toroidal expansion ...\n",
              "4004  What was the name of the route it was intended...\n",
              "4005  What was the main focus of the republican move...\n",
              "...                                                 ...\n",
              "6459  How many times has Michael Harry been a Danish...\n",
              "6460  Who was the earliest to propose the use of gue...\n",
              "6461                     Howard Anthony Gayle was born?\n",
              "6462           What is the population of the Satakunta?\n",
              "6463  What was the name of the storm that caused ext...\n",
              "\n",
              "[2463 rows x 1 columns]"
            ]
          },
          "metadata": {},
          "execution_count": 23
        }
      ]
    },
    {
      "cell_type": "code",
      "metadata": {
        "id": "7HQm7A9mVhWI"
      },
      "source": [
        "test['link_1'] = ''\n",
        "test['link_2'] = ''\n",
        "for i in range(10):\n",
        "  data = wikipedia.search(test.iloc[i].question,results=2)\n",
        "\n",
        "  try:\n",
        "    test.link_1.iloc[i] = data[0]\n",
        "  except:\n",
        "    test.link_1.iloc[i] = '-'\n",
        "\n",
        "  try:\n",
        "    test.link_2.iloc[i] = data[1]\n",
        "  except:\n",
        "    test.link_2.iloc[i] = '-'"
      ],
      "execution_count": null,
      "outputs": []
    },
    {
      "cell_type": "code",
      "metadata": {
        "id": "QVd5KYkzVzzw"
      },
      "source": [
        "test.to_csv('newTest.csv')"
      ],
      "execution_count": null,
      "outputs": []
    }
  ]
}